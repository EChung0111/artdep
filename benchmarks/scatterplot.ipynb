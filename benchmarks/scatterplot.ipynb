{
 "cells": [
  {
   "cell_type": "markdown",
   "id": "82c2cc7a96305f27",
   "metadata": {},
   "source": []
  },
  {
   "cell_type": "code",
   "execution_count": 1,
   "id": "8572ac21e9703f6a",
   "metadata": {
    "ExecuteTime": {
     "end_time": "2025-03-27T16:10:32.944807Z",
     "start_time": "2025-03-27T16:10:32.601493Z"
    }
   },
   "outputs": [],
   "source": [
    "from matplotlib.pyplot import xticks\n",
    "%load_ext autoreload\n",
    "%autoreload 2\n",
    "\n",
    "from matmacore.plot import *"
   ]
  },
  {
   "cell_type": "code",
   "execution_count": 2,
   "id": "a2359196ceed4ed2",
   "metadata": {
    "ExecuteTime": {
     "end_time": "2025-03-27T16:10:32.959496Z",
     "start_time": "2025-03-27T16:10:32.947344Z"
    }
   },
   "outputs": [],
   "source": [
    "\n",
    "np.random.seed(42069)\n",
    "x = np.linspace(-100, 100, 690)\n",
    "\n",
    "y1 = np.random.randint(0, 10, len(x))\n",
    "y1 = [y+ np.random.rand() for y in y1]\n",
    "y2 = np.random.randint(0, 10, len(x))\n",
    "y2 = [y + np.random.rand() for y in y2]\n"
   ]
  },
  {
   "cell_type": "code",
   "execution_count": 3,
   "id": "7f2604765ad2fd89",
   "metadata": {
    "ExecuteTime": {
     "end_time": "2025-03-27T16:10:33.468024Z",
     "start_time": "2025-03-27T16:10:33.014253Z"
    }
   },
   "outputs": [],
   "source": [
    "\n",
    "data = np.column_stack((x, y1, y2))\n",
    "labels = {\n",
    "    'xlabel': 'X Axis',\n",
    "    'ylabel': 'Y Axis',\n",
    "    'title': 'Title Test',\n",
    "    'xrange': [0.,1.6],\n",
    "    'yrange': [0,10],\n",
    "    'x extend': 0.4,\n",
    "    'y extend': 0,\n",
    "    'font': 'Arial'\n",
    "}\n",
    "desc = [\"Dataset 1\", \"Dataset 2\"]"
   ]
  },
  {
   "cell_type": "code",
   "execution_count": 4,
   "id": "5bab99a6c59fd87",
   "metadata": {
    "ExecuteTime": {
     "end_time": "2025-03-27T16:10:33.695566Z",
     "start_time": "2025-03-27T16:10:33.688740Z"
    }
   },
   "outputs": [],
   "source": [
    "plot = Plot(data, desc=desc)\n",
    "plot.set_config(labels)\n",
    "plot.cmap(color_num=2, offset=0, map='gem')\n"
   ]
  },
  {
   "cell_type": "code",
   "execution_count": 5,
   "id": "efdfbd5cb5b463ab",
   "metadata": {
    "ExecuteTime": {
     "end_time": "2025-03-27T16:10:33.863751Z",
     "start_time": "2025-03-27T16:10:33.739846Z"
    }
   },
   "outputs": [
    {
     "name": "stdout",
     "output_type": "stream",
     "text": [
      "[np.float64(0.0), np.float64(1.6)]\n",
      "[np.float64(0.0), np.float64(0.2), np.float64(0.4), np.float64(0.6), np.float64(0.8), np.float64(1.0), np.float64(1.2), np.float64(1.4), np.float64(1.6)]\n"
     ]
    },
    {
     "data": {
     },
     "metadata": {},
     "output_type": "display_data"
    }
   ],
   "source": [
    "plot.scatter()"
   ]
  },
  {
   "cell_type": "markdown",
   "id": "22ee65a705066088",
   "metadata": {},
   "source": []
  }
 ],
 "metadata": {
  "kernelspec": {
   "display_name": "Python 3 (ipykernel)",
   "language": "python",
   "name": "python3"
  },
  "language_info": {
   "codemirror_mode": {
    "name": "ipython",
    "version": 3
   },
   "file_extension": ".py",
   "mimetype": "text/x-python",
   "name": "python",
   "nbconvert_exporter": "python",
   "pygments_lexer": "ipython3",
   "version": "3.9.12"
  }
 },
 "nbformat": 4,
 "nbformat_minor": 5
}
