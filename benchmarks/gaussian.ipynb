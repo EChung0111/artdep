{
 "cells": [
  {
   "metadata": {
    "ExecuteTime": {
     "end_time": "2025-03-04T18:02:08.137976Z",
     "start_time": "2025-03-04T18:02:08.126949Z"
    }
   },
   "cell_type": "code",
   "source": [
    "%load_ext autoreload\n",
    "%autoreload 2\n",
    "\n",
    "import os\n",
    "import sys\n",
    "import numpy as np\n",
    "from MM_Util.mol import *\n",
    "\n",
    "# Reading amol object from a path\n",
    "mol = Mol(\"sample_data\")\n",
    "mol.gaussian()\n",
    "\n",
    "# Obtaining mol object Atrributes\n",
    "\n",
    "print(mol.xyz)\n",
    "print(mol.atoms)\n",
    "print(mol.Vibs)\n",
    "print(mol.Freq)\n",
    "print(mol.E)\n",
    "print(mol.H)\n",
    "print(mol.E)\n",
    "\n",
    "print(mol.NVibs)\n"
   ],
   "id": "9159e689af290cb0",
   "outputs": [
    {
     "name": "stdout",
     "output_type": "stream",
     "text": [
      "The autoreload extension is already loaded. To reload it, use:\n",
      "  %reload_ext autoreload\n",
      "[[-0.941237 -0.20418   0.      ]\n",
      " [ 0.019994 -0.166948 -0.      ]\n",
      " [-1.227006  0.714344  0.      ]]\n",
      "['O', 'H', 'H']\n",
      "[[[-0.   -0.   -0.07]\n",
      "  [ 0.    0.43  0.56]\n",
      "  [ 0.   -0.43  0.56]]\n",
      "\n",
      " [[ 0.   -0.    0.05]\n",
      "  [ 0.    0.59 -0.39]\n",
      "  [-0.   -0.59 -0.39]]]\n",
      "[1602.4365 3818.8124 3923.9167]\n",
      "-76.4585319615\n",
      "-76.433462\n",
      "-76.4585319615\n",
      "2\n"
     ]
    }
   ],
   "execution_count": 11
  }
 ],
 "metadata": {
  "kernelspec": {
   "display_name": "Python 3",
   "language": "python",
   "name": "python3"
  },
  "language_info": {
   "codemirror_mode": {
    "name": "ipython",
    "version": 2
   },
   "file_extension": ".py",
   "mimetype": "text/x-python",
   "name": "python",
   "nbconvert_exporter": "python",
   "pygments_lexer": "ipython2",
   "version": "2.7.6"
  }
 },
 "nbformat": 4,
 "nbformat_minor": 5
}
