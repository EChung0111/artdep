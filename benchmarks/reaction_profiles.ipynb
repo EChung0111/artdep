{
 "cells": [
  {
   "cell_type": "code",
   "execution_count": 1,
   "metadata": {},
   "outputs": [],
   "source": [
    "import numpy as np\n",
    "import sys\n",
    "import os\n",
    "\n",
    "sys.path.append('..')"
   ]
  },
  {
   "cell_type": "code",
   "execution_count": 2,
   "metadata": {},
   "outputs": [],
   "source": [
    "\n",
    "from MM_Util.mol import *\n",
    "from MM_Util.plot import *"
   ]
  },
  {
   "cell_type": "code",
   "execution_count": 3,
   "metadata": {},
   "outputs": [
    {
     "name": "stdout",
     "output_type": "stream",
     "text": [
      "/home/hillel/Code/style_guide/artdep/benchmarks/sample_data/test_reaction\n"
     ]
    }
   ],
   "source": [
    "pwd = os.path.abspath('')\n",
    "\n",
    "wdir = os.path.join(pwd, 'sample_data','test_reaction')\n",
    "\n",
    "print(wdir)"
   ]
  },
  {
   "cell_type": "code",
   "execution_count": 4,
   "metadata": {},
   "outputs": [
    {
     "name": "stdout",
     "output_type": "stream",
     "text": [
      "MeNH2\n",
      "methylacetamide\n",
      "ts1\n",
      "ts2\n",
      "product\n",
      "reactant\n",
      "int\n"
     ]
    }
   ],
   "source": [
    "mol_list = []\n",
    "\n",
    "\n",
    "for d in os.listdir(wdir):\n",
    "    valid_path = os.path.join(wdir, d)\n",
    "    if os.path.isdir(valid_path):\n",
    "        molecule = Mol(valid_path)\n",
    "        molecule.gaussian()\n",
    "        mol_list.append(molecule)\n",
    "        print(d)"
   ]
  },
  {
   "cell_type": "code",
   "execution_count": 5,
   "metadata": {},
   "outputs": [
    {
     "name": "stderr",
     "output_type": "stream",
     "text": [
      "/home/hillel/Code/style_guide/artdep/benchmarks/../MM_Util/mol.py:104: SyntaxWarning: invalid escape sequence '\\s'\n",
      "  elif flags['read_geom'] == True and re.search('^\\s*.\\d', line):\n",
      "/home/hillel/Code/style_guide/artdep/benchmarks/../MM_Util/mol.py:129: SyntaxWarning: invalid escape sequence '\\s'\n",
      "  elif flags['normal_mode'] == True and re.search('^\\s*\\d*\\s*.\\d*', line) and len(line.split()) > 3:\n",
      "/home/hillel/Code/style_guide/artdep/benchmarks/../MM_Util/mol.py:148: SyntaxWarning: invalid escape sequence '\\s'\n",
      "  elif flags['read_geom'] == True and re.search('^\\s*.\\d', line):\n",
      "/home/hillel/Code/style_guide/artdep/benchmarks/../MM_Util/mol.py:161: SyntaxWarning: invalid escape sequence '\\s'\n",
      "  elif flags['read_geom'] == True and re.search('^\\s*.\\d', line):\n",
      "/home/hillel/Code/style_guide/artdep/benchmarks/../MM_Util/mol.py:171: SyntaxWarning: invalid escape sequence '\\d'\n",
      "  elif flags['jcoup_flag'] == True and re.search('-?\\d\\.\\d+[Dd][+\\-]\\d\\d?', line):\n",
      "/home/hillel/Code/style_guide/artdep/benchmarks/../MM_Util/mol.py:184: SyntaxWarning: invalid escape sequence '\\s'\n",
      "  elif flags['read_geom'] == True and re.search('^\\s*.\\d', line):\n"
     ]
    },
    {
     "ename": "AttributeError",
     "evalue": "'Mol' object has no attribute 'E'",
     "output_type": "error",
     "traceback": [
      "\u001b[0;31m---------------------------------------------------------------------------\u001b[0m",
      "\u001b[0;31mAttributeError\u001b[0m                            Traceback (most recent call last)",
      "Cell \u001b[0;32mIn[5], line 1\u001b[0m\n\u001b[0;32m----> 1\u001b[0m reacts \u001b[38;5;241m=\u001b[39m Reaction\u001b[38;5;241m.\u001b[39mcombiner([mol_list[\u001b[38;5;241m0\u001b[39m], mol_list[\u001b[38;5;241m5\u001b[39m]])\n\u001b[1;32m      2\u001b[0m prods \u001b[38;5;241m=\u001b[39m Reaction\u001b[38;5;241m.\u001b[39mcombiner([mol_list[\u001b[38;5;241m1\u001b[39m], mol_list[\u001b[38;5;241m4\u001b[39m]])\n\u001b[1;32m      4\u001b[0m ts1 \u001b[38;5;241m=\u001b[39m mol_list[\u001b[38;5;241m2\u001b[39m]\n",
      "File \u001b[0;32m~/Code/style_guide/artdep/benchmarks/../MM_Util/mol.py:398\u001b[0m, in \u001b[0;36mReaction.combiner\u001b[0;34m(mol_list)\u001b[0m\n\u001b[1;32m    394\u001b[0m new_mol \u001b[38;5;241m=\u001b[39m Mol()\n\u001b[1;32m    396\u001b[0m \u001b[38;5;28;01mfor\u001b[39;00m mol \u001b[38;5;129;01min\u001b[39;00m mol_list:\n\u001b[0;32m--> 398\u001b[0m     new_mol\u001b[38;5;241m.\u001b[39mE \u001b[38;5;241m+\u001b[39m\u001b[38;5;241m=\u001b[39m mol\u001b[38;5;241m.\u001b[39mE\n\u001b[1;32m    399\u001b[0m     new_mol\u001b[38;5;241m.\u001b[39mH \u001b[38;5;241m+\u001b[39m\u001b[38;5;241m=\u001b[39m mol\u001b[38;5;241m.\u001b[39mH\n\u001b[1;32m    400\u001b[0m     new_mol\u001b[38;5;241m.\u001b[39mF \u001b[38;5;241m+\u001b[39m\u001b[38;5;241m=\u001b[39m mol\u001b[38;5;241m.\u001b[39mF\n",
      "\u001b[0;31mAttributeError\u001b[0m: 'Mol' object has no attribute 'E'"
     ]
    }
   ],
   "source": [
    "reacts = Reaction.combiner([mol_list[0], mol_list[5]])\n",
    "prods = Reaction.combiner([mol_list[1], mol_list[4]])\n",
    "\n",
    "ts1 = mol_list[2]\n",
    "int = mol_list[6]\n",
    "ts2 = mol_list[3]\n",
    "\n",
    "profile = [reacts, ts1, int, ts2, prods]\n",
    "labels = ['R', 'TS1', 'Int', 'TS2', 'P']\n",
    "\n",
    "# profile = [ts1, int, ts2]\n",
    "# labels = ['TS1', 'Int', 'TS2']\n",
    "\n",
    "reaction = Reaction(profile, labels)"
   ]
  },
  {
   "cell_type": "code",
   "execution_count": null,
   "metadata": {},
   "outputs": [],
   "source": [
    "Plot.reaction_profile(Reaction, reaction, type = 'delta F')"
   ]
  },
  {
   "cell_type": "code",
   "execution_count": null,
   "metadata": {},
   "outputs": [],
   "source": []
  }
 ],
 "metadata": {
  "kernelspec": {
   "display_name": "base",
   "language": "python",
   "name": "python3"
  },
  "language_info": {
   "codemirror_mode": {
    "name": "ipython",
    "version": 3
   },
   "file_extension": ".py",
   "mimetype": "text/x-python",
   "name": "python",
   "nbconvert_exporter": "python",
   "pygments_lexer": "ipython3",
   "version": "3.12.2"
  }
 },
 "nbformat": 4,
 "nbformat_minor": 2
}
