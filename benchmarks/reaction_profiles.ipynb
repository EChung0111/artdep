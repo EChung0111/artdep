{
 "cells": [
  {
   "cell_type": "code",
   "execution_count": 1,
   "metadata": {},
   "outputs": [
    {
     "name": "stdout",
     "output_type": "stream",
     "text": [
      "/home/hillel/Code/style_guide/artdep\n"
     ]
    }
   ],
   "source": [
    "import os\n",
    "os.chdir(\"..\") \n",
    "print(os.getcwd()) "
   ]
  },
  {
   "cell_type": "code",
   "execution_count": 2,
   "metadata": {},
   "outputs": [],
   "source": [
    "%load_ext autoreload\n",
    "%autoreload 2\n",
    "from MatmaCore.plot import *\n",
    "from MatmaCore.mol import *\n",
    "from MatmaCore.utilities import *"
   ]
  },
  {
   "cell_type": "code",
   "execution_count": 3,
   "metadata": {},
   "outputs": [],
   "source": [
    "react_2 = Mol(\"/home/hillel/Code/style_guide/artdep/benchmarks/sample_data/test_reaction/MeNH2\").gaussian\n",
    "int = Mol(\"/home/hillel/Code/style_guide/artdep/benchmarks/sample_data/test_reaction/int\").gaussian\n",
    "prod_2 = Mol(\"/home/hillel/Code/style_guide/artdep/benchmarks/sample_data/test_reaction/methylacetamide\").gaussian\n",
    "prod_1 = Mol(\"/home/hillel/Code/style_guide/artdep/benchmarks/sample_data/test_reaction/product\").gaussian\n",
    "react_1 = Mol(\"/home/hillel/Code/style_guide/artdep/benchmarks/sample_data/test_reaction/reactant\").gaussian\n",
    "ts1 = Mol(\"/home/hillel/Code/style_guide/artdep/benchmarks/sample_data/test_reaction/ts1\").gaussian\n",
    "ts2 = Mol(\"/home/hillel/Code/style_guide/artdep/benchmarks/sample_data/test_reaction/ts2\").gaussian\n",
    "\n",
    "molecs = [react_1, react_2, ts1, int, ts2, prod_1, prod_2]\n",
    "\n",
    "\n",
    "mol_list = [react_1, ts1, int, ts2, prod_1,]\n",
    "mol_label = ['R', 'TS1', 'Int', 'TS2', 'P']"
   ]
  },
  {
   "cell_type": "code",
   "execution_count": 4,
   "metadata": {},
   "outputs": [
    {
     "ename": "AttributeError",
     "evalue": "'function' object has no attribute 'F'",
     "output_type": "error",
     "traceback": [
      "\u001b[0;31m---------------------------------------------------------------------------\u001b[0m",
      "\u001b[0;31mAttributeError\u001b[0m                            Traceback (most recent call last)",
      "Cell \u001b[0;32mIn[4], line 1\u001b[0m\n\u001b[0;32m----> 1\u001b[0m Plot\u001b[38;5;241m.\u001b[39mreaction_profile(mol_list\u001b[38;5;241m=\u001b[39mmol_list, mol_label\u001b[38;5;241m=\u001b[39mmol_label, \u001b[38;5;28mtype\u001b[39m \u001b[38;5;241m=\u001b[39m \u001b[38;5;124m'\u001b[39m\u001b[38;5;124mF\u001b[39m\u001b[38;5;124m'\u001b[39m)\n",
      "File \u001b[0;32m~/Code/style_guide/artdep/MatmaCore/plot.py:699\u001b[0m, in \u001b[0;36mPlot.reaction_profile\u001b[0;34m(mol_list, mol_label, type, color)\u001b[0m\n\u001b[1;32m    697\u001b[0m     energies\u001b[38;5;241m.\u001b[39mappend(mol\u001b[38;5;241m.\u001b[39mE)   \n\u001b[1;32m    698\u001b[0m \u001b[38;5;28;01melif\u001b[39;00m \u001b[38;5;28mtype\u001b[39m \u001b[38;5;241m==\u001b[39m \u001b[38;5;124m'\u001b[39m\u001b[38;5;124mF\u001b[39m\u001b[38;5;124m'\u001b[39m:\n\u001b[0;32m--> 699\u001b[0m     energies\u001b[38;5;241m.\u001b[39mappend(mol\u001b[38;5;241m.\u001b[39mF) \n\u001b[1;32m    700\u001b[0m \u001b[38;5;28;01melif\u001b[39;00m \u001b[38;5;28mtype\u001b[39m \u001b[38;5;241m==\u001b[39m \u001b[38;5;124m'\u001b[39m\u001b[38;5;124mH\u001b[39m\u001b[38;5;124m'\u001b[39m:\n\u001b[1;32m    701\u001b[0m     energies\u001b[38;5;241m.\u001b[39mappend(mol\u001b[38;5;241m.\u001b[39mH) \n",
      "\u001b[0;31mAttributeError\u001b[0m: 'function' object has no attribute 'F'"
     ]
    }
   ],
   "source": [
    "Plot.reaction_profile(mol_list=mol_list, mol_label=mol_label, type = 'F')"
   ]
  },
  {
   "cell_type": "code",
   "execution_count": null,
   "metadata": {},
   "outputs": [],
   "source": []
  }
 ],
 "metadata": {
  "kernelspec": {
   "display_name": "base",
   "language": "python",
   "name": "python3"
  },
  "language_info": {
   "codemirror_mode": {
    "name": "ipython",
    "version": 3
   },
   "file_extension": ".py",
   "mimetype": "text/x-python",
   "name": "python",
   "nbconvert_exporter": "python",
   "pygments_lexer": "ipython3",
   "version": "3.12.2"
  }
 },
 "nbformat": 4,
 "nbformat_minor": 2
}
