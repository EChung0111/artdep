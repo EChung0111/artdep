{
 "cells": [
  {
   "cell_type": "code",
   "execution_count": 2,
   "metadata": {},
   "outputs": [
    {
     "name": "stdout",
     "output_type": "stream",
     "text": [
      "The autoreload extension is already loaded. To reload it, use:\n",
      "  %reload_ext autoreload\n",
      "/home/hillel/Code/style_guide/artdep/benchmarks/sample_data/test_reaction\n"
     ]
    }
   ],
   "source": [
    "%load_ext autoreload\n",
    "%autoreload 2\n",
    "\n",
    "import os\n",
    "import sys\n",
    "\n",
    "sys.path.append('..')\n",
    "pwd = os.path.abspath('')\n",
    "wdir = os.path.join(pwd, 'sample_data','test_reaction')\n",
    "print(wdir) \n",
    "\n",
    "import matmacore as mm\n",
    "from matmacore.mol import *\n",
    "from matmacore.plot import *"
   ]
  },
  {
   "cell_type": "code",
   "execution_count": null,
   "metadata": {},
   "outputs": [],
   "source": [
    "reactions = Reaction.create_reaction_list(\n",
    "    (\"Reaction 1\",\n",
    "     [os.path.join(wdir, 'a'), os.path.join(wdir, 'b'), 'R'],\n",
    "     [os.path.join(wdir, 'c'), 'TS'],\n",
    "     [os.path.join(wdir, 'd'), 'P']),\n",
    "    \n",
    "    (\"Reaction 2\", \n",
    "     [os.path.join(wdir, 'e'), 'R'],\n",
    "     [os.path.join(wdir, 'f'), 'TS'],\n",
    "     [os.path.join(wdir, 'g'), 'P'])\n",
    ")\n",
    "\n",
    "\n",
    "plot = mm.Plot()\n",
    "plot.cmap(color_num=len(reactions)) \n",
    "plot.multi_profile(reactions, type='F', units='kcal')"
   ]
  }
 ],
 "metadata": {
  "kernelspec": {
   "display_name": "base",
   "language": "python",
   "name": "python3"
  },
  "language_info": {
   "codemirror_mode": {
    "name": "ipython",
    "version": 3
   },
   "file_extension": ".py",
   "mimetype": "text/x-python",
   "name": "python",
   "nbconvert_exporter": "python",
   "pygments_lexer": "ipython3",
   "version": "3.12.2"
  }
 },
 "nbformat": 4,
 "nbformat_minor": 2
}
